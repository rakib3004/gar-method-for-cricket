{
  "nbformat": 4,
  "nbformat_minor": 0,
  "metadata": {
    "colab": {
      "provenance": [],
      "toc_visible": true,
      "mount_file_id": "1L_a1M6HOFx9EY9bDpBZ9S9oLfpnFfcIF",
      "authorship_tag": "ABX9TyOivdHnO+un4jiATCEXbgxl",
      "include_colab_link": true
    },
    "kernelspec": {
      "name": "python3",
      "display_name": "Python 3"
    },
    "language_info": {
      "name": "python"
    }
  },
  "cells": [
    {
      "cell_type": "markdown",
      "metadata": {
        "id": "view-in-github",
        "colab_type": "text"
      },
      "source": [
        "<a href=\"https://colab.research.google.com/github/rakib3004/gar-method-for-cricket/blob/main/cricket_gar_method_data_processing.ipynb\" target=\"_parent\"><img src=\"https://colab.research.google.com/assets/colab-badge.svg\" alt=\"Open In Colab\"/></a>"
      ]
    },
    {
      "cell_type": "markdown",
      "source": [
        "# **Fetch Data for Mirpur**"
      ],
      "metadata": {
        "id": "ZypxA4tG0_qc"
      }
    },
    {
      "cell_type": "code",
      "execution_count": null,
      "metadata": {
        "id": "Zq_-BaNwbiI3",
        "colab": {
          "base_uri": "https://localhost:8080/"
        },
        "outputId": "e4f4ff44-11d3-456d-e88b-919fcd0f19d4"
      },
      "outputs": [
        {
          "output_type": "stream",
          "name": "stdout",
          "text": [
            "Venue statistics file has been successfully created.\n"
          ]
        }
      ],
      "source": [
        "import os\n",
        "import requests\n",
        "\n",
        "\n",
        "url = f'https://stats.espncricinfo.com/ci/engine/stats/index.html?batting_positionmax1=2;batting_positionmin1=1;batting_positionval1=batting_position;class=2;filter=advanced;ground=2025;orderby=runs;spanmax3=03+Oct+2023;spanmin3=03+Oct+2018;spanval3=span;template=results;type=batting'\n",
        "\n",
        "\n",
        "response = requests.get(url)\n",
        "venue_statistics = '/content/drive/MyDrive/Shared/MachineLearningResearch/HTMLs/mirpur.html'\n",
        "if response.status_code == 200:\n",
        "    with open(venue_statistics, \"wb\") as f:\n",
        "        f.write(response.content)\n",
        "    print(\"Venue statistics file has been successfully created.\")\n",
        "else:\n",
        "    print(\"Failed to fetch the URL. Status code:\", response.status_code)\n"
      ]
    },
    {
      "cell_type": "code",
      "source": [
        "from google.colab import drive\n",
        "drive.mount('/content/drive')"
      ],
      "metadata": {
        "id": "BgJ1MkKoA6wF"
      },
      "execution_count": null,
      "outputs": []
    },
    {
      "cell_type": "markdown",
      "source": [
        "# **Mirpur Dataset**"
      ],
      "metadata": {
        "id": "t907TIl61JvD"
      }
    },
    {
      "cell_type": "code",
      "source": [
        "!pip install beautifulsoup4"
      ],
      "metadata": {
        "colab": {
          "base_uri": "https://localhost:8080/"
        },
        "id": "Yt-bP7AM3u9F",
        "outputId": "da959caf-c6e6-4d28-ea07-4e106010b8aa"
      },
      "execution_count": null,
      "outputs": [
        {
          "output_type": "stream",
          "name": "stdout",
          "text": [
            "Requirement already satisfied: beautifulsoup4 in /usr/local/lib/python3.10/dist-packages (4.11.2)\n",
            "Requirement already satisfied: soupsieve>1.2 in /usr/local/lib/python3.10/dist-packages (from beautifulsoup4) (2.5)\n"
          ]
        }
      ]
    },
    {
      "cell_type": "code",
      "source": [
        "import re\n",
        "import pandas as pd\n",
        "import requests\n",
        "from bs4 import BeautifulSoup\n",
        "import csv\n",
        "\n",
        "with open(venue_statistics, 'r', encoding='utf-8') as file:\n",
        "        html_content = file.read()\n",
        "# Parse the HTML content with BeautifulSoup\n",
        "soup = BeautifulSoup(html_content, 'html.parser')\n",
        "\n",
        "# Find the table with class \"engineTable\"\n",
        "tables = soup.find_all('table', class_='engineTable')\n",
        "\n",
        "table = tables[2]\n",
        "\n",
        "data = []\n",
        "\n",
        "# Find all table rows (except the first one which contains headers)\n",
        "rows = table.find_all('tr')[1:]\n",
        "\n",
        "# Iterate through rows and extract data\n",
        "for row in rows:\n",
        "    columns = row.find_all('td')\n",
        "    player_name = columns[0].text.strip()\n",
        "    years = columns[1].text.strip()\n",
        "    matches = columns[2].text.strip()\n",
        "    innings = columns[3].text.strip()\n",
        "    runs = columns[5].text.strip()\n",
        "    average = columns[7].text.strip()\n",
        "    strike_rate = columns[9].text.strip()\n",
        "    centuries = columns[10].text.strip()\n",
        "    fifties = columns[11].text.strip()\n",
        "    fours = columns[12].text.strip()\n",
        "    sixes = columns[13].text.strip()\n",
        "\n",
        "    # Append the data to the list\n",
        "    data.append([player_name, years, matches, innings, runs, average, strike_rate, centuries, fifties, fours, sixes])\n",
        "\n",
        "# Define the CSV file name\n",
        "csv_filename = '/content/drive/MyDrive/Shared/MachineLearningResearch/Datasets/mirpur.csv'\n",
        "\n",
        "# Write the data to a CSV file\n",
        "with open(csv_filename, 'w', newline='') as csvfile:\n",
        "    csv_writer = csv.writer(csvfile)\n",
        "\n",
        "    # Write the header row\n",
        "    header = ['Player Name', 'Years', 'Matches', 'Innings', 'Runs', 'Average', 'Strike Rate', 'Centuries', 'Fifties', 'Fours', 'Sixes']\n",
        "    csv_writer.writerow(header)\n",
        "\n",
        "    # Write the data rows\n",
        "    csv_writer.writerows(data)\n",
        "\n",
        "print(f'Data has been saved to {csv_filename}')"
      ],
      "metadata": {
        "colab": {
          "base_uri": "https://localhost:8080/"
        },
        "id": "OqZR0Qvg1TbD",
        "outputId": "22345ea7-ae61-4ab2-e295-8c53fd6d4687"
      },
      "execution_count": null,
      "outputs": [
        {
          "output_type": "stream",
          "name": "stdout",
          "text": [
            "Data has been saved to /content/drive/MyDrive/Shared/MachineLearningResearch/Datasets/mirpur.csv\n"
          ]
        }
      ]
    },
    {
      "cell_type": "markdown",
      "source": [
        "# **Wankhede Dataset**"
      ],
      "metadata": {
        "id": "jXq0utLsA93S"
      }
    },
    {
      "cell_type": "code",
      "source": [
        "import os\n",
        "import requests\n",
        "import re\n",
        "import pandas as pd\n",
        "import requests\n",
        "from bs4 import BeautifulSoup\n",
        "import csv\n",
        "\n",
        "url = f'https://stats.espncricinfo.com/ci/engine/stats/index.html?batting_positionmax1=2;batting_positionmin1=1;batting_positionval1=batting_position;class=2;filter=advanced;ground=713;orderby=runs;spanmax1=03+Oct+2023;spanmin1=03+Oct+2018;spanval1=span;template=results;type=batting'\n",
        "\n",
        "\n",
        "response = requests.get(url)\n",
        "venue_statistics = '/content/drive/MyDrive/Shared/MachineLearningResearch/HTMLs/wankhede.html'\n",
        "if response.status_code == 200:\n",
        "    with open(venue_statistics, \"wb\") as f:\n",
        "        f.write(response.content)\n",
        "    print(\"Venue statistics file has been successfully created.\")\n",
        "else:\n",
        "    print(\"Failed to fetch the URL. Status code:\", response.status_code)\n",
        "\n",
        "\n",
        "\n",
        "with open(venue_statistics, 'r', encoding='utf-8') as file:\n",
        "        html_content = file.read()\n",
        "# Parse the HTML content with BeautifulSoup\n",
        "soup = BeautifulSoup(html_content, 'html.parser')\n",
        "\n",
        "# Find the table with class \"engineTable\"\n",
        "tables = soup.find_all('table', class_='engineTable')\n",
        "\n",
        "table = tables[2]\n",
        "\n",
        "data = []\n",
        "\n",
        "# Find all table rows (except the first one which contains headers)\n",
        "rows = table.find_all('tr')[1:]\n",
        "\n",
        "# Iterate through rows and extract data\n",
        "for row in rows:\n",
        "    columns = row.find_all('td')\n",
        "    player_name = columns[0].text.strip()\n",
        "    years = columns[1].text.strip()\n",
        "    matches = columns[2].text.strip()\n",
        "    innings = columns[3].text.strip()\n",
        "    runs = columns[5].text.strip()\n",
        "    average = columns[7].text.strip()\n",
        "    strike_rate = columns[9].text.strip()\n",
        "    centuries = columns[10].text.strip()\n",
        "    fifties = columns[11].text.strip()\n",
        "    fours = columns[12].text.strip()\n",
        "    sixes = columns[13].text.strip()\n",
        "\n",
        "    # Append the data to the list\n",
        "    data.append([player_name, years, matches, innings, runs, average, strike_rate, centuries, fifties, fours, sixes])\n",
        "\n",
        "# Define the CSV file name\n",
        "csv_filename = '/content/drive/MyDrive/Shared/MachineLearningResearch/Datasets/wankhede.csv'\n",
        "\n",
        "# Write the data to a CSV file\n",
        "with open(csv_filename, 'w', newline='') as csvfile:\n",
        "    csv_writer = csv.writer(csvfile)\n",
        "\n",
        "    # Write the header row\n",
        "    header = ['Player Name', 'Years', 'Matches', 'Innings', 'Runs', 'Average', 'Strike Rate', 'Centuries', 'Fifties', 'Fours', 'Sixes']\n",
        "    csv_writer.writerow(header)\n",
        "\n",
        "    # Write the data rows\n",
        "    csv_writer.writerows(data)\n",
        "\n",
        "print(f'Data has been saved to {csv_filename}')"
      ],
      "metadata": {
        "id": "e4OlDNDw4Tvc",
        "colab": {
          "base_uri": "https://localhost:8080/"
        },
        "outputId": "8508c50d-bf5f-4975-abdc-e11ef5d8c4d3"
      },
      "execution_count": 1,
      "outputs": [
        {
          "output_type": "stream",
          "name": "stdout",
          "text": [
            "Venue statistics file has been successfully created.\n",
            "Data has been saved to /content/drive/MyDrive/Shared/MachineLearningResearch/Datasets/wankhede.csv\n"
          ]
        }
      ]
    },
    {
      "cell_type": "markdown",
      "source": [
        "# **Lords & Colombo Dataset**"
      ],
      "metadata": {
        "id": "PvHkWy5qCUa7"
      }
    },
    {
      "cell_type": "code",
      "source": [
        "import os\n",
        "import requests\n",
        "import re\n",
        "import pandas as pd\n",
        "import requests\n",
        "from bs4 import BeautifulSoup\n",
        "import csv\n",
        "\n",
        "url = f'https://stats.espncricinfo.com/ci/engine/stats/index.html?batting_positionmax1=2;batting_positionmin1=1;batting_positionval1=batting_position;class=2;filter=advanced;ground=1004;orderby=runs;spanmax1=03+Oct+2023;spanmin1=03+Oct+2018;spanval1=span;template=results;type=batting'\n",
        "\n",
        "\n",
        "response = requests.get(url)\n",
        "venue_statistics = '/content/drive/MyDrive/Shared/MachineLearningResearch/HTMLs/colombo.html'\n",
        "if response.status_code == 200:\n",
        "    with open(venue_statistics, \"wb\") as f:\n",
        "        f.write(response.content)\n",
        "    print(\"Venue statistics file has been successfully created.\")\n",
        "else:\n",
        "    print(\"Failed to fetch the URL. Status code:\", response.status_code)\n",
        "\n",
        "\n",
        "\n",
        "with open(venue_statistics, 'r', encoding='utf-8') as file:\n",
        "        html_content = file.read()\n",
        "# Parse the HTML content with BeautifulSoup\n",
        "soup = BeautifulSoup(html_content, 'html.parser')\n",
        "\n",
        "# Find the table with class \"engineTable\"\n",
        "tables = soup.find_all('table', class_='engineTable')\n",
        "\n",
        "table = tables[2]\n",
        "\n",
        "data = []\n",
        "\n",
        "# Find all table rows (except the first one which contains headers)\n",
        "rows = table.find_all('tr')[1:]\n",
        "\n",
        "# Iterate through rows and extract data\n",
        "for row in rows:\n",
        "    columns = row.find_all('td')\n",
        "    player_name = columns[0].text.strip()\n",
        "    years = columns[1].text.strip()\n",
        "    matches = columns[2].text.strip()\n",
        "    innings = columns[3].text.strip()\n",
        "    runs = columns[5].text.strip()\n",
        "    average = columns[7].text.strip()\n",
        "    strike_rate = columns[9].text.strip()\n",
        "    centuries = columns[10].text.strip()\n",
        "    fifties = columns[11].text.strip()\n",
        "    fours = columns[12].text.strip()\n",
        "    sixes = columns[13].text.strip()\n",
        "\n",
        "    # Append the data to the list\n",
        "    data.append([player_name, years, matches, innings, runs, average, strike_rate, centuries, fifties, fours, sixes])\n",
        "\n",
        "# Define the CSV file name\n",
        "csv_filename = '/content/drive/MyDrive/Shared/MachineLearningResearch/Datasets/colombo.csv'\n",
        "\n",
        "# Write the data to a CSV file\n",
        "with open(csv_filename, 'w', newline='') as csvfile:\n",
        "    csv_writer = csv.writer(csvfile)\n",
        "\n",
        "    # Write the header row\n",
        "    header = ['Player Name', 'Years', 'Matches', 'Innings', 'Runs', 'Average', 'Strike Rate', 'Centuries', 'Fifties', 'Fours', 'Sixes']\n",
        "    csv_writer.writerow(header)\n",
        "\n",
        "    # Write the data rows\n",
        "    csv_writer.writerows(data)\n",
        "\n",
        "print(f'Data has been saved to {csv_filename}')"
      ],
      "metadata": {
        "colab": {
          "base_uri": "https://localhost:8080/"
        },
        "id": "2j3nUdZoCxil",
        "outputId": "0a281cab-96c6-4624-9b0b-427d26c252c8"
      },
      "execution_count": 3,
      "outputs": [
        {
          "output_type": "stream",
          "name": "stdout",
          "text": [
            "Venue statistics file has been successfully created.\n",
            "Data has been saved to /content/drive/MyDrive/Shared/MachineLearningResearch/Datasets/colombo.csv\n"
          ]
        }
      ]
    }
  ]
}